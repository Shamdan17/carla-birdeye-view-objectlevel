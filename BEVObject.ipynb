{
 "cells": [
  {
   "cell_type": "code",
   "execution_count": 1,
   "id": "fddcd31e",
   "metadata": {},
   "outputs": [],
   "source": [
    "%load_ext autoreload\n",
    "%autoreload 2"
   ]
  },
  {
   "cell_type": "code",
   "execution_count": 108,
   "id": "57c091e7",
   "metadata": {},
   "outputs": [],
   "source": [
    "from carla_birdeye_view import BirdViewProducerObjectLevelRenderer, PixelDimensions, BirdViewCropType"
   ]
  },
  {
   "cell_type": "code",
   "execution_count": 125,
   "id": "7d4b112f",
   "metadata": {},
   "outputs": [],
   "source": [
    "a = BirdViewProducerObjectLevelRenderer(\n",
    "    PixelDimensions(600, 600),\n",
    "    5, \n",
    "#     BirdViewCropType.FRONT_AREA_ONLY\n",
    ")"
   ]
  },
  {
   "cell_type": "code",
   "execution_count": 4,
   "id": "2cb55782",
   "metadata": {},
   "outputs": [],
   "source": [
    "import json"
   ]
  },
  {
   "cell_type": "code",
   "execution_count": 5,
   "id": "8ff53f44",
   "metadata": {},
   "outputs": [],
   "source": [
    "dct = json.load(open(\"/home/shadi/hdd/data/iteration_four_overfit_v2_nolights_with_random_traffic/all_towns_traffic_scenarios_public_RouteScenario_rightleft_rep0_05_01_00_08_55/bev_objectlevel/0010.json\"))"
   ]
  },
  {
   "cell_type": "code",
   "execution_count": 126,
   "id": "32717584",
   "metadata": {},
   "outputs": [
    {
     "name": "stdout",
     "output_type": "stream",
     "text": [
      "Object:  {'class': 'Vehicle', 'extent': [1.5107464790344238, 4.901683330535889, 2.128324270248413], 'position': [0.0, 0.0, 0.0], 'yaw': 0, 'num_points': -1, 'distance': -1, 'speed': 1.654183011503386, 'brake': 0.0, 'id': 318, 'ego_matrix': [[-0.9999990463256836, -6.780800322303548e-05, 0.0013668558094650507, 277.8559265136719], [6.786180892959237e-05, -1.0, 3.932201798306778e-05, -249.87551879882812], [0.0013668531319126487, 3.941473914892413e-05, 0.9999990463256836, 0.03740859776735306], [0.0, 0.0, 0.0, 1.0]], 'ego_vehicle': True}\n",
      "Object:  {'class': 'Vehicle', 'extent': [2.0377919673919678, 4.4804368019104, 2.069315195083618], 'position': [19.34492308423976, 51.66131740534441, -0.04311368189343745], 'yaw': -4.707966801394614, 'distance': 55.16447791813551, 'speed': 1.1187090927136674, 'brake': 0.0, 'id': 347, 'ego_matrix': [[0.0043540699407458305, 0.9999905228614807, -0.00012258588685654104, 258.51446533203125], [-0.9999375343322754, 0.00435510091483593, 0.010293342173099518, -198.212890625], [0.010293778963387012, 7.776030543027446e-05, 0.9999470114707947, 0.018700407817959785], [0.0, 0.0, 0.0, 1.0]], 'ego_vehicle': False}\n",
      "Object:  {'class': 'Vehicle', 'extent': [2.560655355453491, 5.91519021987915, 1.9884328842163086], 'position': [22.533351381144975, -47.010072725667186, -0.0416944954550722], 'yaw': -1.56796472076587, 'distance': 52.1315700949973, 'speed': 1.6146893482879623, 'brake': 0.0, 'id': 345, 'ego_matrix': [[-0.00276363268494606, -0.9999961853027344, 5.839139703311957e-06, 255.31935119628906], [0.9999829530715942, -0.002763626165688038, -0.005143384449183941, -296.8840637207031], [0.005143380723893642, -8.375383913516998e-06, 0.9999867677688599, 0.02836681343615055], [0.0, 0.0, 0.0, 1.0]], 'ego_vehicle': False}\n",
      "Object:  {'class': 'Vehicle', 'extent': [1.9872066974639893, 4.442183971405029, 1.77456533908844], 'position': [19.094711524610105, -27.53242223913774, -0.04225866366064057], 'yaw': -4.709265891374354, 'distance': 33.50588110103805, 'speed': 1.3210532980248166, 'brake': 0.0, 'id': 344, 'ego_matrix': [[0.0030551350209861994, 0.9999953508377075, -1.4347068827191833e-05, 258.7593078613281], [-0.9999850988388062, 0.003055168781429529, 0.004521689377725124, -277.4066467285156], [0.004521711729466915, 5.32483625192981e-07, 0.9999897480010986, 0.02233482338488102], [0.0, 0.0, 0.0, 1.0]], 'ego_vehicle': False}\n",
      "Object:  {'class': 'Vehicle', 'extent': [1.300939917564392, 4.717525005340576, 1.894826889038086], 'position': [19.062981221991347, -37.59180701560276, -0.050884112681458316], 'yaw': -4.709467093194709, 'distance': 42.149066383032014, 'speed': 1.957210012831579, 'brake': 0.0, 'id': 343, 'ego_matrix': [[0.0028539414051920176, 0.9999959468841553, -8.212214197556023e-08, 258.79034423828125], [-0.9999957084655762, 0.0028539407067000866, 0.0006876016268506646, -287.4660339355469], [0.0006875990657135844, -1.8802528529704432e-06, 0.9999997615814209, 0.01406249962747097], [0.0, 0.0, 0.0, 1.0]], 'ego_vehicle': False}\n",
      "Object:  {'class': 'Vehicle', 'extent': [1.6672759056091309, 4.611005783081055, 2.241713285446167], 'position': [19.032234697065775, -47.38404417643877, 0.02182297675372924], 'yaw': -4.709236063970145, 'distance': 51.06343188937863, 'speed': 0.0, 'brake': nan, 'id': 342, 'ego_matrix': [[0.0030849685426801443, 0.999995231628418, 0.0, 258.8205261230469], [-0.999995231628418, 0.0030849685426801443, 0.0, -297.2582702636719], [0.0, -0.0, 1.0, 0.08711345493793488], [0.0, 0.0, 0.0, 1.0]], 'ego_vehicle': False}\n",
      "Object:  {'class': 'Vehicle', 'extent': [1.4876600503921509, 4.791779518127441, 2.163450002670288], 'position': [-21.213716810177736, -0.13421091552316827, -0.0030197141455923227], 'yaw': -0.0068254155577642805, 'distance': 21.214141570917654, 'speed': 3.7044164506002484, 'brake': 1.0, 'id': 341, 'ego_matrix': [[-0.9999755620956421, -0.006893252953886986, 0.0011613162932917476, 299.0696105957031], [0.006893249694257975, -0.9999762177467346, -6.940148523426615e-06, -250.01116943359375], [0.0011613365495577455, 1.0652639730324154e-06, 0.9999993443489075, 0.005398139823228121], [0.0, 0.0, 0.0, 1.0]], 'ego_vehicle': False}\n",
      "Object:  {'class': 'Vehicle', 'extent': [2.0377919673919678, 4.4804368019104, 2.069315195083618], 'position': [-11.31543952150276, -0.06659893615771716, -0.018607865145663705], 'yaw': -0.006634200591496775, 'distance': 11.315650809199143, 'speed': 1.0622166224230465, 'brake': 0.0, 'id': 340, 'ego_matrix': [[-0.9999269843101501, -0.006701495498418808, 0.010056586004793644, 289.17132568359375], [0.006701708771288395, -0.9999775290489197, -1.2538901501102373e-05, -249.94288635253906], [0.010056444443762302, 5.4858326620887965e-05, 0.9999494552612305, 0.0033368300646543503], [0.0, 0.0, 0.0, 1.0]], 'ego_vehicle': False}\n",
      "Object:  {'class': 'Vehicle', 'extent': [1.9872066974639893, 4.442183971405029, 1.77456533908844], 'position': [10.705580425628293, 0.06708532541420134, -0.044924617478463436], 'yaw': -6.278984703192204, 'distance': 10.705884872897578, 'speed': 1.31026159063513, 'brake': 0.0, 'id': 339, 'ego_matrix': [[-0.9999815225601196, 0.00414157472550869, 0.004459040705114603, 267.1502990722656], [-0.004132607486099005, -0.99998939037323, 0.00201847730204463, -249.80770874023438], [0.0044673532247543335, 0.0020000122021883726, 0.9999880194664001, 0.0071143340319395065], [0.0, 0.0, 0.0, 1.0]], 'ego_vehicle': False}\n",
      "Object:  {'class': 'TrafficLight', 'position': [-28.54404935149086, -5.4225438278984495, 0.3013934571852175], 'distance': 29.056110767992664, 'id': 312, 'state': 'red', 'ego_matrix': [[-1.5934321027089027e-06, 1.0, 0.0, 306.3999938964844], [-1.0, -1.5934321027089027e-06, 0.0, -255.29998779296875], [0.0, -0.0, 1.0, 0.29999998211860657], [0.0, 0.0, 0.0, 1.0]]}\n",
      "rendering light of color (255, 0, 0) at location [327 442]\n",
      "Object:  {'class': 'TrafficLight', 'position': [13.852386440951827, -52.675439552784496, -0.00841897573659045], 'distance': 54.46641729605199, 'id': 305, 'state': 'green', 'ego_matrix': [[-2.821299744937278e-07, -1.0, 0.0, 263.9999694824219], [1.0, -2.821299744937278e-07, -0.0, -302.5500183105469], [0.0, -0.0, 1.0, 0.04999999701976776], [0.0, 0.0, 0.0, 1.0]]}\n",
      "rendering light of color (0, 255, 0) at location [563 230]\n",
      "Object:  {'class': 'TrafficLight', 'position': [-28.34305673227418, 9.027439557915358, 0.30168827237792695], 'distance': 29.74751326942167, 'id': 280, 'state': 'red', 'ego_matrix': [[-1.0, -1.3430886838250444e-06, 0.0, 306.1999816894531], [1.3430886838250444e-06, -1.0, -0.0, -240.84999084472656], [0.0, -0.0, 1.0, 0.29999998211860657], [0.0, 0.0, 0.0, 1.0]]}\n",
      "rendering light of color (255, 0, 0) at location [254 441]\n",
      "Object:  {'class': 'TrafficLight', 'position': [-42.39400831570692, -4.921604686639943, 0.32034407949792576], 'distance': 42.67993385764618, 'id': 279, 'state': 'red', 'ego_matrix': [[1.0, 0.0, -0.0, 320.25], [0.0, 1.0, 0.0, -254.79998779296875], [0.0, -0.0, 1.0, 0.29999998211860657], [0.0, 0.0, 0.0, 1.0]]}\n",
      "rendering light of color (255, 0, 0) at location [324 511]\n",
      "Object:  {'class': 'TrafficLight', 'position': [-42.293130283941096, 7.92837937687243, 0.32071267314543206], 'distance': 43.03104606417032, 'id': 278, 'state': 'green', 'ego_matrix': [[-1.951060085048084e-06, -1.0, 0.0, 320.1499938964844], [1.0, -1.951060085048084e-06, -0.0, -241.9499969482422], [0.0, -0.0, 1.0, 0.29999998211860657], [0.0, 0.0, 0.0, 1.0]]}\n",
      "rendering light of color (0, 255, 0) at location [260 511]\n"
     ]
    }
   ],
   "source": [
    "res = a.as_rgb(dct[\"bev\"])"
   ]
  },
  {
   "cell_type": "code",
   "execution_count": 70,
   "id": "043a17d5",
   "metadata": {},
   "outputs": [],
   "source": [
    "from matplotlib import pyplot as plt"
   ]
  },
  {
   "cell_type": "code",
   "execution_count": 9,
   "id": "f8a66b25",
   "metadata": {},
   "outputs": [
    {
     "data": {
      "text/plain": [
       "dict_keys(['bev'])"
      ]
     },
     "execution_count": 9,
     "metadata": {},
     "output_type": "execute_result"
    }
   ],
   "source": [
    "dct.keys()"
   ]
  },
  {
   "cell_type": "code",
   "execution_count": 17,
   "id": "bc6aae4e",
   "metadata": {},
   "outputs": [
    {
     "data": {
      "text/plain": [
       "(400, 400, 3)"
      ]
     },
     "execution_count": 17,
     "metadata": {},
     "output_type": "execute_result"
    }
   ],
   "source": [
    "res.shape"
   ]
  },
  {
   "cell_type": "code",
   "execution_count": 37,
   "id": "25137a81",
   "metadata": {},
   "outputs": [
    {
     "data": {
      "text/plain": [
       "Coord(x=353, y=353)"
      ]
     },
     "execution_count": 37,
     "metadata": {},
     "output_type": "execute_result"
    }
   ],
   "source": [
    "a.origin"
   ]
  },
  {
   "cell_type": "code",
   "execution_count": 127,
   "id": "5adbde55",
   "metadata": {},
   "outputs": [
    {
     "data": {
      "text/plain": [
       "<matplotlib.image.AxesImage at 0x7f5c10853990>"
      ]
     },
     "execution_count": 127,
     "metadata": {},
     "output_type": "execute_result"
    },
    {
     "data": {
      "image/png": "[encoded data removed]",
      "text/plain": [
       "<Figure size 640x480 with 1 Axes>"
      ]
     },
     "metadata": {},
     "output_type": "display_data"
    }
   ],
   "source": [
    "plt.imshow(res)"
   ]
  },
  {
   "cell_type": "code",
   "execution_count": 128,
   "id": "32bdbd08",
   "metadata": {},
   "outputs": [
    {
     "name": "stdout",
     "output_type": "stream",
     "text": [
      "RENDERED\n",
      "RENDERED\n",
      "RENDERED\n",
      "RENDERED\n",
      "RENDERED\n",
      "rendering light of color (255,) at location [260 511]\n",
      "RENDERED\n",
      "rendering light of color (255,) at location [254 441]\n",
      "RENDERED\n",
      "rendering light of color (255,) at location [324 511]\n",
      "RENDERED\n",
      "rendering light of color (255,) at location [563 230]\n",
      "RENDERED\n",
      "RENDERED\n",
      "rendering light of color (255,) at location [327 442]\n",
      "RENDERED\n",
      "RENDERED\n",
      "RENDERED\n"
     ]
    }
   ],
   "source": [
    "slts = a.as_slots(dct[\"bev\"])"
   ]
  },
  {
   "cell_type": "code",
   "execution_count": 97,
   "id": "0145c545",
   "metadata": {},
   "outputs": [],
   "source": [
    "import numpy as np"
   ]
  },
  {
   "cell_type": "code",
   "execution_count": 100,
   "id": "efffd842",
   "metadata": {},
   "outputs": [
    {
     "data": {
      "text/plain": [
       "(192, 192, 10)"
      ]
     },
     "execution_count": 100,
     "metadata": {},
     "output_type": "execute_result"
    }
   ],
   "source": [
    "slts.shape"
   ]
  },
  {
   "cell_type": "code",
   "execution_count": 105,
   "id": "48c96431",
   "metadata": {},
   "outputs": [
    {
     "data": {
      "text/plain": [
       "[0, 0, 0, 24475, 0, 0, 0, 0, 0, 0]"
      ]
     },
     "execution_count": 105,
     "metadata": {},
     "output_type": "execute_result"
    }
   ],
   "source": [
    "np.argmax(slts.reshape(-1, 10), axis=0).tolist()"
   ]
  },
  {
   "cell_type": "code",
   "execution_count": 161,
   "id": "74d522cb",
   "metadata": {},
   "outputs": [
    {
     "data": {
      "text/plain": [
       "<matplotlib.image.AxesImage at 0x7f5c0fc7e4d0>"
      ]
     },
     "execution_count": 161,
     "metadata": {},
     "output_type": "execute_result"
    },
    {
     "data": {
      "image/png": "[encoded data removed]",
      "text/plain": [
       "<Figure size 640x480 with 1 Axes>"
      ]
     },
     "metadata": {},
     "output_type": "display_data"
    }
   ],
   "source": [
    "plt.imshow(slts[:, :, 9])"
   ]
  },
  {
   "cell_type": "code",
   "execution_count": 152,
   "id": "bf395975",
   "metadata": {},
   "outputs": [
    {
     "data": {
      "text/plain": [
       "[{'class': 'Vehicle',\n",
       "  'extent': [2.0377919673919678, 4.4804368019104, 2.069315195083618],\n",
       "  'position': [19.34492308423976, 51.66131740534441, -0.04311368189343745],\n",
       "  'yaw': -4.707966801394614,\n",
       "  'distance': 55.16447791813551,\n",
       "  'speed': 1.1187090927136674,\n",
       "  'brake': 0.0,\n",
       "  'id': 347,\n",
       "  'ego_matrix': [[0.0043540699407458305,\n",
       "    0.9999905228614807,\n",
       "    -0.00012258588685654104,\n",
       "    258.51446533203125],\n",
       "   [-0.9999375343322754,\n",
       "    0.00435510091483593,\n",
       "    0.010293342173099518,\n",
       "    -198.212890625],\n",
       "   [0.010293778963387012,\n",
       "    7.776030543027446e-05,\n",
       "    0.9999470114707947,\n",
       "    0.018700407817959785],\n",
       "   [0.0, 0.0, 0.0, 1.0]],\n",
       "  'ego_vehicle': False},\n",
       " {'class': 'Vehicle',\n",
       "  'extent': [2.560655355453491, 5.91519021987915, 1.9884328842163086],\n",
       "  'position': [22.533351381144975, -47.010072725667186, -0.0416944954550722],\n",
       "  'yaw': -1.56796472076587,\n",
       "  'distance': 52.1315700949973,\n",
       "  'speed': 1.6146893482879623,\n",
       "  'brake': 0.0,\n",
       "  'id': 345,\n",
       "  'ego_matrix': [[-0.00276363268494606,\n",
       "    -0.9999961853027344,\n",
       "    5.839139703311957e-06,\n",
       "    255.31935119628906],\n",
       "   [0.9999829530715942,\n",
       "    -0.002763626165688038,\n",
       "    -0.005143384449183941,\n",
       "    -296.8840637207031],\n",
       "   [0.005143380723893642,\n",
       "    -8.375383913516998e-06,\n",
       "    0.9999867677688599,\n",
       "    0.02836681343615055],\n",
       "   [0.0, 0.0, 0.0, 1.0]],\n",
       "  'ego_vehicle': False},\n",
       " {'class': 'Vehicle',\n",
       "  'extent': [1.9872066974639893, 4.442183971405029, 1.77456533908844],\n",
       "  'position': [19.094711524610105, -27.53242223913774, -0.04225866366064057],\n",
       "  'yaw': -4.709265891374354,\n",
       "  'distance': 33.50588110103805,\n",
       "  'speed': 1.3210532980248166,\n",
       "  'brake': 0.0,\n",
       "  'id': 344,\n",
       "  'ego_matrix': [[0.0030551350209861994,\n",
       "    0.9999953508377075,\n",
       "    -1.4347068827191833e-05,\n",
       "    258.7593078613281],\n",
       "   [-0.9999850988388062,\n",
       "    0.003055168781429529,\n",
       "    0.004521689377725124,\n",
       "    -277.4066467285156],\n",
       "   [0.004521711729466915,\n",
       "    5.32483625192981e-07,\n",
       "    0.9999897480010986,\n",
       "    0.02233482338488102],\n",
       "   [0.0, 0.0, 0.0, 1.0]],\n",
       "  'ego_vehicle': False},\n",
       " {'class': 'Vehicle',\n",
       "  'extent': [1.300939917564392, 4.717525005340576, 1.894826889038086],\n",
       "  'position': [19.062981221991347, -37.59180701560276, -0.050884112681458316],\n",
       "  'yaw': -4.709467093194709,\n",
       "  'distance': 42.149066383032014,\n",
       "  'speed': 1.957210012831579,\n",
       "  'brake': 0.0,\n",
       "  'id': 343,\n",
       "  'ego_matrix': [[0.0028539414051920176,\n",
       "    0.9999959468841553,\n",
       "    -8.212214197556023e-08,\n",
       "    258.79034423828125],\n",
       "   [-0.9999957084655762,\n",
       "    0.0028539407067000866,\n",
       "    0.0006876016268506646,\n",
       "    -287.4660339355469],\n",
       "   [0.0006875990657135844,\n",
       "    -1.8802528529704432e-06,\n",
       "    0.9999997615814209,\n",
       "    0.01406249962747097],\n",
       "   [0.0, 0.0, 0.0, 1.0]],\n",
       "  'ego_vehicle': False},\n",
       " {'class': 'Vehicle',\n",
       "  'extent': [1.6672759056091309, 4.611005783081055, 2.241713285446167],\n",
       "  'position': [19.032234697065775, -47.38404417643877, 0.02182297675372924],\n",
       "  'yaw': -4.709236063970145,\n",
       "  'distance': 51.06343188937863,\n",
       "  'speed': 0.0,\n",
       "  'brake': nan,\n",
       "  'id': 342,\n",
       "  'ego_matrix': [[0.0030849685426801443,\n",
       "    0.999995231628418,\n",
       "    0.0,\n",
       "    258.8205261230469],\n",
       "   [-0.999995231628418, 0.0030849685426801443, 0.0, -297.2582702636719],\n",
       "   [0.0, -0.0, 1.0, 0.08711345493793488],\n",
       "   [0.0, 0.0, 0.0, 1.0]],\n",
       "  'ego_vehicle': False},\n",
       " {'class': 'Vehicle',\n",
       "  'extent': [1.4876600503921509, 4.791779518127441, 2.163450002670288],\n",
       "  'position': [-21.213716810177736,\n",
       "   -0.13421091552316827,\n",
       "   -0.0030197141455923227],\n",
       "  'yaw': -0.0068254155577642805,\n",
       "  'distance': 21.214141570917654,\n",
       "  'speed': 3.7044164506002484,\n",
       "  'brake': 1.0,\n",
       "  'id': 341,\n",
       "  'ego_matrix': [[-0.9999755620956421,\n",
       "    -0.006893252953886986,\n",
       "    0.0011613162932917476,\n",
       "    299.0696105957031],\n",
       "   [0.006893249694257975,\n",
       "    -0.9999762177467346,\n",
       "    -6.940148523426615e-06,\n",
       "    -250.01116943359375],\n",
       "   [0.0011613365495577455,\n",
       "    1.0652639730324154e-06,\n",
       "    0.9999993443489075,\n",
       "    0.005398139823228121],\n",
       "   [0.0, 0.0, 0.0, 1.0]],\n",
       "  'ego_vehicle': False},\n",
       " {'class': 'Vehicle',\n",
       "  'extent': [2.0377919673919678, 4.4804368019104, 2.069315195083618],\n",
       "  'position': [-11.31543952150276,\n",
       "   -0.06659893615771716,\n",
       "   -0.018607865145663705],\n",
       "  'yaw': -0.006634200591496775,\n",
       "  'distance': 11.315650809199143,\n",
       "  'speed': 1.0622166224230465,\n",
       "  'brake': 0.0,\n",
       "  'id': 340,\n",
       "  'ego_matrix': [[-0.9999269843101501,\n",
       "    -0.006701495498418808,\n",
       "    0.010056586004793644,\n",
       "    289.17132568359375],\n",
       "   [0.006701708771288395,\n",
       "    -0.9999775290489197,\n",
       "    -1.2538901501102373e-05,\n",
       "    -249.94288635253906],\n",
       "   [0.010056444443762302,\n",
       "    5.4858326620887965e-05,\n",
       "    0.9999494552612305,\n",
       "    0.0033368300646543503],\n",
       "   [0.0, 0.0, 0.0, 1.0]],\n",
       "  'ego_vehicle': False},\n",
       " {'class': 'Vehicle',\n",
       "  'extent': [1.9872066974639893, 4.442183971405029, 1.77456533908844],\n",
       "  'position': [10.705580425628293, 0.06708532541420134, -0.044924617478463436],\n",
       "  'yaw': -6.278984703192204,\n",
       "  'distance': 10.705884872897578,\n",
       "  'speed': 1.31026159063513,\n",
       "  'brake': 0.0,\n",
       "  'id': 339,\n",
       "  'ego_matrix': [[-0.9999815225601196,\n",
       "    0.00414157472550869,\n",
       "    0.004459040705114603,\n",
       "    267.1502990722656],\n",
       "   [-0.004132607486099005,\n",
       "    -0.99998939037323,\n",
       "    0.00201847730204463,\n",
       "    -249.80770874023438],\n",
       "   [0.0044673532247543335,\n",
       "    0.0020000122021883726,\n",
       "    0.9999880194664001,\n",
       "    0.0071143340319395065],\n",
       "   [0.0, 0.0, 0.0, 1.0]],\n",
       "  'ego_vehicle': False},\n",
       " {'class': 'TrafficLight',\n",
       "  'position': [-28.54404935149086, -5.4225438278984495, 0.3013934571852175],\n",
       "  'distance': 29.056110767992664,\n",
       "  'id': 312,\n",
       "  'state': 'red',\n",
       "  'ego_matrix': [[-1.5934321027089027e-06, 1.0, 0.0, 306.3999938964844],\n",
       "   [-1.0, -1.5934321027089027e-06, 0.0, -255.29998779296875],\n",
       "   [0.0, -0.0, 1.0, 0.29999998211860657],\n",
       "   [0.0, 0.0, 0.0, 1.0]]},\n",
       " {'class': 'TrafficLight',\n",
       "  'position': [13.852386440951827, -52.675439552784496, -0.00841897573659045],\n",
       "  'distance': 54.46641729605199,\n",
       "  'id': 305,\n",
       "  'state': 'green',\n",
       "  'ego_matrix': [[-2.821299744937278e-07, -1.0, 0.0, 263.9999694824219],\n",
       "   [1.0, -2.821299744937278e-07, -0.0, -302.5500183105469],\n",
       "   [0.0, -0.0, 1.0, 0.04999999701976776],\n",
       "   [0.0, 0.0, 0.0, 1.0]]},\n",
       " {'class': 'TrafficLight',\n",
       "  'position': [-28.34305673227418, 9.027439557915358, 0.30168827237792695],\n",
       "  'distance': 29.74751326942167,\n",
       "  'id': 280,\n",
       "  'state': 'red',\n",
       "  'ego_matrix': [[-1.0, -1.3430886838250444e-06, 0.0, 306.1999816894531],\n",
       "   [1.3430886838250444e-06, -1.0, -0.0, -240.84999084472656],\n",
       "   [0.0, -0.0, 1.0, 0.29999998211860657],\n",
       "   [0.0, 0.0, 0.0, 1.0]]},\n",
       " {'class': 'TrafficLight',\n",
       "  'position': [-42.39400831570692, -4.921604686639943, 0.32034407949792576],\n",
       "  'distance': 42.67993385764618,\n",
       "  'id': 279,\n",
       "  'state': 'red',\n",
       "  'ego_matrix': [[1.0, 0.0, -0.0, 320.25],\n",
       "   [0.0, 1.0, 0.0, -254.79998779296875],\n",
       "   [0.0, -0.0, 1.0, 0.29999998211860657],\n",
       "   [0.0, 0.0, 0.0, 1.0]]},\n",
       " {'class': 'TrafficLight',\n",
       "  'position': [-42.293130283941096, 7.92837937687243, 0.32071267314543206],\n",
       "  'distance': 43.03104606417032,\n",
       "  'id': 278,\n",
       "  'state': 'green',\n",
       "  'ego_matrix': [[-1.951060085048084e-06, -1.0, 0.0, 320.1499938964844],\n",
       "   [1.0, -1.951060085048084e-06, -0.0, -241.9499969482422],\n",
       "   [0.0, -0.0, 1.0, 0.29999998211860657],\n",
       "   [0.0, 0.0, 0.0, 1.0]]}]"
      ]
     },
     "execution_count": 152,
     "metadata": {},
     "output_type": "execute_result"
    }
   ],
   "source": [
    "a.filter_objects_in_scene(dct[\"bev\"])"
   ]
  },
  {
   "cell_type": "code",
   "execution_count": 151,
   "id": "a8a88f0a",
   "metadata": {},
   "outputs": [
    {
     "data": {
      "text/plain": [
       "13"
      ]
     },
     "execution_count": 151,
     "metadata": {},
     "output_type": "execute_result"
    }
   ],
   "source": [
    "len(a.filter_objects_in_scene(dct[\"bev\"]))"
   ]
  },
  {
   "cell_type": "code",
   "execution_count": 162,
   "id": "837d0bd3",
   "metadata": {},
   "outputs": [],
   "source": [
    "?BirdViewProducerObjectLevelRenderer"
   ]
  },
  {
   "cell_type": "code",
   "execution_count": 174,
   "id": "620df9ce",
   "metadata": {},
   "outputs": [],
   "source": [
    "b = BirdViewProducerObjectLevelRenderer(\n",
    "    PixelDimensions(600, 600),\n",
    "    5, \n",
    "#     BirdViewCropType.FRONT_AREA_ONLY\n",
    "    num_slots=3\n",
    ")"
   ]
  },
  {
   "cell_type": "code",
   "execution_count": 175,
   "id": "2a92025c",
   "metadata": {},
   "outputs": [],
   "source": [
    "objs = b.filter_objects_in_scene(dct[\"bev\"])"
   ]
  },
  {
   "cell_type": "code",
   "execution_count": 176,
   "id": "bdab2f1b",
   "metadata": {},
   "outputs": [
    {
     "data": {
      "text/plain": [
       "13"
      ]
     },
     "execution_count": 176,
     "metadata": {},
     "output_type": "execute_result"
    }
   ],
   "source": [
    "len(objs)"
   ]
  },
  {
   "cell_type": "code",
   "execution_count": 177,
   "id": "d7ee502f",
   "metadata": {},
   "outputs": [
    {
     "name": "stdout",
     "output_type": "stream",
     "text": [
      "rendering light of color (255,) at location [260 511]\n",
      "RENDERED\n",
      "RENDERED\n",
      "rendering light of color (255,) at location [254 441]\n",
      "RENDERED\n",
      "RENDERED\n",
      "RENDERED\n",
      "RENDERED\n",
      "rendering light of color (255,) at location [563 230]\n",
      "RENDERED\n",
      "RENDERED\n",
      "RENDERED\n",
      "RENDERED\n",
      "rendering light of color (255,) at location [327 442]\n",
      "RENDERED\n",
      "RENDERED\n",
      "rendering light of color (255,) at location [324 511]\n",
      "RENDERED\n"
     ]
    }
   ],
   "source": [
    "slts = b.as_slots(objs)"
   ]
  },
  {
   "cell_type": "code",
   "execution_count": 181,
   "id": "06c3e847",
   "metadata": {},
   "outputs": [
    {
     "data": {
      "text/plain": [
       "<matplotlib.image.AxesImage at 0x7f5c0f6fa0d0>"
      ]
     },
     "execution_count": 181,
     "metadata": {},
     "output_type": "execute_result"
    },
    {
     "data": {
      "image/png": "[encoded data removed]",
      "text/plain": [
       "<Figure size 640x480 with 1 Axes>"
      ]
     },
     "metadata": {},
     "output_type": "display_data"
    }
   ],
   "source": [
    "plt.imshow(slts[:, :, -1])"
   ]
  }
 ],
 "metadata": {
  "kernelspec": {
   "display_name": "Python 3 (ipykernel)",
   "language": "python",
   "name": "python3"
  },
  "language_info": {
   "codemirror_mode": {
    "name": "ipython",
    "version": 3
   },
   "file_extension": ".py",
   "mimetype": "text/x-python",
   "name": "python",
   "nbconvert_exporter": "python",
   "pygments_lexer": "ipython3",
   "version": "3.7.15"
  }
 },
 "nbformat": 4,
 "nbformat_minor": 5
}
